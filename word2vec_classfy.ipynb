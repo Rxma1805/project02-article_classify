{
 "cells": [
  {
   "cell_type": "code",
   "execution_count": 40,
   "metadata": {},
   "outputs": [],
   "source": [
    "import pandas  as pd\n",
    "import os\n",
    "import sys\n",
    "sys.path.append('./src')\n",
    "import data_io, params, SIF_embedding\n",
    "import numpy as np\n",
    "import "
   ]
  },
  {
   "cell_type": "code",
   "execution_count": 23,
   "metadata": {},
   "outputs": [],
   "source": [
    "cropus_path = os.path.abspath('../data/news_chinese_sqlResult_1558435.csv')\n",
    "glove_word2vector_path=os.path.abspath(\"../data/chinese_data_cropus_vectors.txt\")\n",
    "news_cropus_path = os.path.abspath(\"../data/news_data.txt\")\n",
    "word_freauency_path = os.path.abspath(\"../data/chinese_data_cropus_vocab.txt\")\n",
    "weight_params = 1e-3 # the parameter in the SIF weighting scheme, usually in the range [3e-5, 3e-3]\n",
    "rmpc = 1 # number of principal components to remove in SIF weighting scheme"
   ]
  },
  {
   "cell_type": "code",
   "execution_count": 24,
   "metadata": {},
   "outputs": [
    {
     "name": "stdout",
     "output_type": "stream",
     "text": [
      "['430394']\n",
      "['24523']\n",
      "['299']\n",
      "['67']\n",
      "['36']\n",
      "['23']\n",
      "['17']\n",
      "['10']\n",
      "['6']\n"
     ]
    }
   ],
   "source": [
    "# 加载glove词向量\n",
    "#Word2Indx['word'] = word_indx\n",
    "#Word2vector[Word2Indx['word'] ] is the word_indx'th word_vector\n",
    "(Word2Indx, Word2vector) = data_io.getWordmap(glove_word2vector_path)\n",
    "# word2weight['word'] is the weight for the word 'word'\n",
    "Word2Weight = data_io.getWordWeight(word_freauency_path, weight_params) \n",
    "\n",
    "Index2Weight= data_io.getWeight(Word2Indx, Word2Weight) # Index2Weight[i] is the weight for the i-th word"
   ]
  },
  {
   "cell_type": "code",
   "execution_count": 25,
   "metadata": {},
   "outputs": [],
   "source": [
    "sentences = []\n",
    "#将新闻文章变成list\n",
    "with open(news_cropus_path) as f:\n",
    "    for line in f:\n",
    "        sentences.append(line)"
   ]
  },
  {
   "cell_type": "code",
   "execution_count": 26,
   "metadata": {},
   "outputs": [
    {
     "name": "stdout",
     "output_type": "stream",
     "text": [
      "89607\n"
     ]
    }
   ],
   "source": [
    "print(len(sentences))"
   ]
  },
  {
   "cell_type": "code",
   "execution_count": 32,
   "metadata": {},
   "outputs": [
    {
     "ename": "AttributeError",
     "evalue": "'params' object has no attribute 'params'",
     "output_type": "error",
     "traceback": [
      "\u001b[0;31m---------------------------------------------------------------------------\u001b[0m",
      "\u001b[0;31mAttributeError\u001b[0m                            Traceback (most recent call last)",
      "\u001b[0;32m<ipython-input-32-d02999a7084a>\u001b[0m in \u001b[0;36m<module>\u001b[0;34m\u001b[0m\n\u001b[1;32m      6\u001b[0m \u001b[0mword_weight_of_sentence\u001b[0m \u001b[0;34m=\u001b[0m \u001b[0mdata_io\u001b[0m\u001b[0;34m.\u001b[0m\u001b[0mseq2weight\u001b[0m\u001b[0;34m(\u001b[0m\u001b[0mword_idx_seq_of_sentence\u001b[0m\u001b[0;34m,\u001b[0m \u001b[0mmask\u001b[0m\u001b[0;34m,\u001b[0m \u001b[0mIndex2Weight\u001b[0m\u001b[0;34m)\u001b[0m \u001b[0;31m# get word weights\u001b[0m\u001b[0;34m\u001b[0m\u001b[0;34m\u001b[0m\u001b[0m\n\u001b[1;32m      7\u001b[0m \u001b[0;31m# set parameters\u001b[0m\u001b[0;34m\u001b[0m\u001b[0;34m\u001b[0m\u001b[0;34m\u001b[0m\u001b[0m\n\u001b[0;32m----> 8\u001b[0;31m \u001b[0mparams\u001b[0m \u001b[0;34m=\u001b[0m \u001b[0mparams\u001b[0m\u001b[0;34m.\u001b[0m\u001b[0mparams\u001b[0m\u001b[0;34m(\u001b[0m\u001b[0;34m)\u001b[0m\u001b[0;34m\u001b[0m\u001b[0;34m\u001b[0m\u001b[0m\n\u001b[0m\u001b[1;32m      9\u001b[0m \u001b[0mparams\u001b[0m\u001b[0;34m.\u001b[0m\u001b[0mrmpc\u001b[0m \u001b[0;34m=\u001b[0m \u001b[0mrmpc\u001b[0m\u001b[0;34m\u001b[0m\u001b[0;34m\u001b[0m\u001b[0m\n",
      "\u001b[0;31mAttributeError\u001b[0m: 'params' object has no attribute 'params'"
     ]
    }
   ],
   "source": [
    "# load sentences\n",
    "#x[i] is sentences[i]'s index of sequence\n",
    "#m is mask ,use 1 and 0  represent different sentence.\n",
    "word_idx_seq_of_sentence, mask = data_io.sentences2idx(sentences, Word2Indx) # x is the array of word indices, m is the binary mask indicating whether there is a word in that location\n",
    "#sentence_word_weight\n",
    "word_weight_of_sentence = data_io.seq2weight(word_idx_seq_of_sentence, mask, Index2Weight) # get word weights\n",
    "# set parameters"
   ]
  },
  {
   "cell_type": "code",
   "execution_count": 35,
   "metadata": {},
   "outputs": [],
   "source": [
    "params = params.params()\n",
    "params.rmpc = rmpc"
   ]
  },
  {
   "cell_type": "code",
   "execution_count": 36,
   "metadata": {},
   "outputs": [],
   "source": [
    "# get SIF embedding\n",
    "# embedding[i,:] is the embedding for sentence i\n",
    "embedding = SIF_embedding.SIF_embedding(Word2vector, word_idx_seq_of_sentence, word_weight_of_sentence, params) "
   ]
  },
  {
   "cell_type": "code",
   "execution_count": 42,
   "metadata": {},
   "outputs": [],
   "source": [
    "np.save(\"sentence2vector.npy\",embedding)"
   ]
  },
  {
   "cell_type": "code",
   "execution_count": 37,
   "metadata": {},
   "outputs": [
    {
     "data": {
      "text/plain": [
       "(89607, 50)"
      ]
     },
     "execution_count": 37,
     "metadata": {},
     "output_type": "execute_result"
    }
   ],
   "source": [
    "embedding.shape"
   ]
  },
  {
   "cell_type": "code",
   "execution_count": 58,
   "metadata": {},
   "outputs": [
    {
     "data": {
      "text/plain": [
       "array([ 0.00089048,  0.02454774, -0.03781125, -0.02711399, -0.1710236 ,\n",
       "        0.12716949,  0.20108985, -0.03190947,  0.02004501, -0.05232528,\n",
       "        0.07656174, -0.07048745, -0.19263127, -0.08026742, -0.30537211,\n",
       "        0.08218371, -0.05765594,  0.18046428,  0.04680579,  0.20554955,\n",
       "        0.30881865,  0.05272279, -0.06371776,  0.00058033,  0.13698873,\n",
       "       -0.04779066,  0.17742225,  0.15315233,  0.01870738,  0.1280525 ,\n",
       "       -0.15690721, -0.05865687,  0.12369457, -0.17584271,  0.28075816,\n",
       "        0.00692654,  0.0898805 ,  0.18085011,  0.28719106,  0.11593817,\n",
       "        0.07575179,  0.17381612, -0.02507069, -0.13272166, -0.0521053 ,\n",
       "       -0.03812526, -0.27981632, -0.11053169, -0.03878611,  0.08074484])"
      ]
     },
     "execution_count": 58,
     "metadata": {},
     "output_type": "execute_result"
    }
   ],
   "source": [
    "news_sentence_embed_vector = embedding\n",
    "news_sentence_embed_vector[0]"
   ]
  },
  {
   "cell_type": "code",
   "execution_count": 43,
   "metadata": {},
   "outputs": [],
   "source": [
    "#embedding is all news vector\n",
    "#it is the input X\n",
    "#Y is 新华社or not  1/0"
   ]
  },
  {
   "cell_type": "code",
   "execution_count": 46,
   "metadata": {},
   "outputs": [
    {
     "name": "stderr",
     "output_type": "stream",
     "text": [
      "b'Skipping line 64072: expected 7 fields, saw 32\\nSkipping line 84179: expected 7 fields, saw 31\\n'\n"
     ]
    }
   ],
   "source": [
    "df = pd.read_csv(cropus_path,error_bad_lines=False,header=None,dtype='str')\n"
   ]
  },
  {
   "cell_type": "code",
   "execution_count": 51,
   "metadata": {},
   "outputs": [
    {
     "name": "stdout",
     "output_type": "stream",
     "text": [
      "           0                 1    2  \\\n",
      "3      89614               NaN  新华社   \n",
      "39     89578               NaN  新华社   \n",
      "95     89522               NaN  新华社   \n",
      "113    89504               NaN  新华社   \n",
      "305    89312               NaN  新华社   \n",
      "312    89305               NaN  新华社   \n",
      "314    89303               NaN  新华社   \n",
      "543    89074               刘瑞莹  新华社   \n",
      "545    89072               NaN  新华社   \n",
      "651    88966                王点  新华社   \n",
      "671    88946                王点  新华社   \n",
      "679    88938                王点  新华社   \n",
      "715    88902                李芳  新华社   \n",
      "794    88823               卜晓明  新华社   \n",
      "810    88807               张启畅  新华社   \n",
      "816    88801               张雪飞  新华社   \n",
      "909    88708               NaN  新华社   \n",
      "931    88686               NaN  新华社   \n",
      "934    88683                邓茜  新华社   \n",
      "937    88680               NaN  新华社   \n",
      "940    88677               NaN  新华社   \n",
      "943    88674                王强  新华社   \n",
      "946    88671               王乃水  新华社   \n",
      "951    88666               NaN  新华社   \n",
      "954    88663               NaN  新华社   \n",
      "958    88659               NaN  新华社   \n",
      "964    88653               NaN  新华社   \n",
      "966    88651               NaN  新华社   \n",
      "990    88627               NaN  新华社   \n",
      "995    88622               NaN  新华社   \n",
      "...      ...               ...  ...   \n",
      "89577     30       INACIO ROSA  新华社   \n",
      "89578     29       INACIO ROSA  新华社   \n",
      "89579     28       INACIO ROSA  新华社   \n",
      "89580     27       INACIO ROSA  新华社   \n",
      "89581     26       INACIO ROSA  新华社   \n",
      "89582     25       INACIO ROSA  新华社   \n",
      "89583     24      LOVELY GHOSH  新华社   \n",
      "89584     23      LOVELY GHOSH  新华社   \n",
      "89585     22      LOVELY GHOSH  新华社   \n",
      "89586     21      LOVELY GHOSH  新华社   \n",
      "89587     20      LOVELY GHOSH  新华社   \n",
      "89588     19                张旌  新华社   \n",
      "89589     18               NaN  新华社   \n",
      "89590     17  LISELOTTE SABROE  新华社   \n",
      "89591     16  LISELOTTE SABROE  新华社   \n",
      "89592     15  LISELOTTE SABROE  新华社   \n",
      "89593     14  LISELOTTE SABROE  新华社   \n",
      "89594     13  LISELOTTE SABROE  新华社   \n",
      "89595     12  LISELOTTE SABROE  新华社   \n",
      "89596     11  LISELOTTE SABROE  新华社   \n",
      "89597     10  LISELOTTE SABROE  新华社   \n",
      "89598      9  LISELOTTE SABROE  新华社   \n",
      "89599      8               郑焕松  新华社   \n",
      "89600      7               郑焕松  新华社   \n",
      "89601      6               郑焕松  新华社   \n",
      "89602      5                邹峥  新华社   \n",
      "89603      4                王衡  新华社   \n",
      "89604      3                张旌  新华社   \n",
      "89605      2               夏文辉  新华社   \n",
      "89606      1            王子江 张寒  新华社   \n",
      "\n",
      "                                                       3  \\\n",
      "3          这是6月18日在葡萄牙中部大佩德罗冈地区拍摄的被森林大火烧毁的汽车。新华社记者张立云摄\\n   \n",
      "39         这是6月18日在葡萄牙中部大佩德罗冈地区拍摄的被森林大火烧毁的汽车。新华社记者张立云摄\\n   \n",
      "95     新华社韩国济州6月18日电综述：亚投行第二届年会三大亮点\\n新华社记者 耿学鹏 严蕾\\n亚洲...   \n",
      "113    新华社北京6月18日电 经军委领导批准，《军营理论热点怎么看·2017》日前印发全军。\\n为...   \n",
      "305    新华社兰州6月19日电（记者张钦）记者19日了解到，刚刚出台的《甘肃省网络扶贫行动的实施方案...   \n",
      "312    新华社乌鲁木齐6月18日电（记者杜刚、王秉阳）6月18日，新疆天山天池首次举办山地马拉松比赛...   \n",
      "314    新华社北京6月19日电（记者熊丰）记者从公安部消防局获悉，19日上午6时，由公安部消防局组织...   \n",
      "543    　　暑期旅游旺季是各大旅游景区开门迎客的好时机。然而，有5家5A级景区却高兴不起来：国家旅游...   \n",
      "545    　　新华社北京6月20日电　总部设在德国波恩的国际残奥委会在当地时间19日宣布，中国残联主席...   \n",
      "651    　　新华社南京4月17日电(记者潘晔)江苏拥有不少5A景区。日前，一份来自清华大学的第三方调...   \n",
      "671    　　5月9日，在美国纽约，人们观看巴西里约热内卢的缩微景观。\\n　　当日，“格列佛大门”缩微...   \n",
      "679    　　新华社洛杉矶5月9日电(记者高山)美国洛杉矶旅游局9日宣布，洛杉矶2016年接待游客47...   \n",
      "715    　　机动车在斑马线前不但不减速反而抢行，这类群众反映强烈的城市交通乱象将在本月得到整治。记者...   \n",
      "794    　　美国亚马逊公司首席执行官杰夫?贝索斯比全球首富比尔?盖茨差多少钱？答案是５０亿美元。\\n...   \n",
      "810    　　新华社巴西利亚６月１９日电（记者张启畅）巴西央行１９日发布每周经济数据报告预计，今年巴西...   \n",
      "816    　　新华社巴黎６月１９日电（记者张雪飞）第５２届巴黎－布尔歇国际航空航天展览会（巴黎航展）１...   \n",
      "909    　　新华社北京6月20日电　总部设在德国波恩的国际残奥委会在当地时间19日宣布，中国残联主席...   \n",
      "931    　　 新华社快讯：国际油价２０日下跌，７月交货的纽约轻质原油期货价格下跌０．９７美元，收于每...   \n",
      "934    　　新华社伦敦６月２０日电（记者邓茜）伦敦股市《金融时报》１００种股票平均价格指数２０日报收...   \n",
      "937    　　新华社快讯：纽约商品交易所黄金期货市场交投最活跃的８月黄金期价２０日比前一交易日下跌３．...   \n",
      "940    　　新华社快讯：伦敦股市《金融时报》１００种股票平均价格指数２０日报收于７４７２．７１点，比...   \n",
      "943    　　新华社芝加哥６月２０日电（记者王强）芝加哥期货交易所２０日玉米、小麦和大豆期价涨跌不一。...   \n",
      "946    　　新华社纽约６月２０日电（记者王乃水）美元对多数主要货币汇率２０日上涨。\\n　　美国联邦储...   \n",
      "951    　　新华社快讯：摩根士丹利资本国际公司（ＭＳＣＩ）２０日宣布，将中国Ａ股纳入ＭＳＣＩ新兴市场...   \n",
      "954    　　 美元对多数主要货币汇率２０日上涨，截至纽约汇市尾盘，１欧元兑换１．１１３０美元，１美元...   \n",
      "958    　　 国际油价２０日下跌，７月交货的纽约轻质原油期货价格下跌０．９７美元，收于每桶４３．２３...   \n",
      "964    　　伦敦股市《金融时报》１００种股票平均价格指数２０日报收于７４７２．７１点，比前一交易日下...   \n",
      "966    　　 巴黎股市ＣＡＣ４０股指２０日尾盘报收于５２９３．６５点，较前一交易日下跌１７．０７点，...   \n",
      "990    　　 纽约股市三大股指２０日下跌，其中道指跌０．２９％，标普指数跌０．６７％，纳斯达克指数跌...   \n",
      "995    　　纽约商品交易所黄金期货市场交投最活跃的８月黄金期价２０日比前一交易日下跌３．２美元，收于...   \n",
      "...                                                  ...   \n",
      "89577  新华社照片，外代，2017年6月7日\\n（外代二线）足球——世预赛：葡萄牙备战\\n6月6日，...   \n",
      "89578  新华社照片，外代，2017年6月7日\\n（外代二线）足球——世预赛：葡萄牙备战\\n6月6日，...   \n",
      "89579  新华社照片，外代，2017年6月7日\\n（外代二线）足球——世预赛：葡萄牙备战\\n6月6日，...   \n",
      "89580  新华社照片，外代，2017年6月7日\\n（外代二线）足球——世预赛：葡萄牙备战\\n6月6日，...   \n",
      "89581  新华社照片，外代，2017年6月7日\\n（外代二线）足球——世预赛：葡萄牙备战\\n6月6日，...   \n",
      "89582  新华社照片，外代，2017年6月7日\\n（外代二线）足球——世预赛：葡萄牙备战\\n6月6日，...   \n",
      "89583  新华社照片，外代，2017年6月7日\\n（外代二线）蚕丝生产\\n6月6日，在印度特里普拉邦特...   \n",
      "89584  新华社照片，外代，2017年6月7日\\n（外代二线）蚕丝生产\\n6月6日，在印度特里普拉邦特...   \n",
      "89585  新华社照片，外代，2017年6月7日\\n（外代二线）蚕丝生产\\n5月30日，在印度特里普拉邦...   \n",
      "89586  新华社照片，外代，2017年6月7日\\n（外代二线）蚕丝生产\\n6月6日，在印度特里普拉邦特...   \n",
      "89587  新华社照片，外代，2017年6月7日\\n（外代二线）蚕丝生产\\n5月30日，在印度特里普拉邦...   \n",
      "89588  \\n\\n2017年4月27日，在首尔光化门广场，民众在集会上手举反“萨德”标语。（新华社记者...   \n",
      "89589  \\n新华社巴格达6月6日电（记者魏玉栋　程帅朋）伊拉克西部安巴尔省一处市场6日晚发生自杀式爆...   \n",
      "89590  新华社照片，外代，2017年6月7日\\n（外代二线）足球——国际友谊赛：德国平丹麦\\n6月6...   \n",
      "89591  新华社照片，外代，2017年6月7日\\n（外代二线）足球——国际友谊赛：德国平丹麦\\n6月6...   \n",
      "89592  新华社照片，外代，2017年6月7日\\n（外代二线）足球——国际友谊赛：德国平丹麦\\n6月6...   \n",
      "89593  新华社照片，外代，2017年6月7日\\n（外代二线）足球——国际友谊赛：德国平丹麦\\n6月6...   \n",
      "89594  新华社照片，外代，2017年6月7日\\n（外代二线）足球——国际友谊赛：德国平丹麦\\n6月6...   \n",
      "89595  新华社照片，外代，2017年6月7日\\n（外代二线）足球——国际友谊赛：德国平丹麦\\n6月6...   \n",
      "89596  新华社照片，外代，2017年6月7日\\n（外代二线）足球——国际友谊赛：德国平丹麦\\n6月6...   \n",
      "89597  新华社照片，外代，2017年6月7日\\n（外代二线）足球——国际友谊赛：德国平丹麦\\n6月6...   \n",
      "89598  新华社照片，外代，2017年6月7日\\n（外代二线）足球——国际友谊赛：德国平丹麦\\n6月6...   \n",
      "89599  新华社照片，北京，2017年6月7日\\n电影《血战湘江》举行清华大学巡映活动\\n6月6日，电...   \n",
      "89600  新华社照片，北京，2017年6月7日\\n电影《血战湘江》举行清华大学巡映活动\\n6月6日，清...   \n",
      "89601  新华社照片，北京，2017年6月7日\\n电影《血战湘江》举行清华大学巡映活动\\n6月6日，电...   \n",
      "89602  新华社照片，多伦多，2017年6月7日\\n（体育）（2）冰球——国家女子冰球队海外选秀在多伦...   \n",
      "89603  新华社兰州6月3日电（王衡、徐丹）记者从甘肃省交通运输厅获悉，甘肃近日集中开建高速公路、普通...   \n",
      "89604  \\n\\n2017年5月29日，在法国巴黎郊外的凡尔赛宫，法国总统马克龙出席新闻发布会。（新华...   \n",
      "89605  \\n\\n2017年5月25日，在美国马萨诸塞州剑桥市，哈佛大学毕业生在毕业典礼上欢呼。（新华...   \n",
      "89606  　　新华社德国杜塞尔多夫６月６日电题：乒乓女球迷　\\n　　新华社记者王子江、张寒\\n　　熊老...   \n",
      "\n",
      "                                                       4  \\\n",
      "3      {\"type\":\"国际新闻\",\"site\":\"环球\",\"commentNum\":\"0\",\"j...   \n",
      "39     {\"type\":\"国际新闻\",\"site\":\"环球\",\"commentNum\":\"0\",\"j...   \n",
      "95     {\"type\":\"国内新闻\",\"site\":\"环球\",\"commentNum\":\"0\",\"j...   \n",
      "113    {\"type\":\"国内新闻\",\"site\":\"环球\",\"commentNum\":\"0\",\"j...   \n",
      "305    {\"type\":\"国内新闻\",\"site\":\"环球\",\"commentNum\":\"0\",\"j...   \n",
      "312    {\"type\":\"国内新闻\",\"site\":\"环球\",\"commentNum\":\"0\",\"j...   \n",
      "314    {\"type\":\"国内新闻\",\"site\":\"环球\",\"commentNum\":\"0\",\"j...   \n",
      "543    {\"type\":\"旅游\",\"site\":\"环球\",\"commentNum\":\"0\",\"joi...   \n",
      "545    {\"type\":\"体育\",\"site\":\"新浪\",\"commentNum\":\" 50\",\"j...   \n",
      "651    {\"type\":\"旅游\",\"site\":\"环球\",\"commentNum\":\"0\",\"joi...   \n",
      "671    {\"type\":\"旅游\",\"site\":\"环球\",\"commentNum\":\"0\",\"joi...   \n",
      "679    {\"type\":\"旅游\",\"site\":\"环球\",\"commentNum\":\"0\",\"joi...   \n",
      "715    {\"type\":\"汽车\",\"site\":\"环球\",\"commentNum\":\"0\",\"joi...   \n",
      "794    {\"type\":\"海外\",\"site\":\"中证网\",\"commentNum\":\"0\",\"jo...   \n",
      "810    {\"type\":\"海外\",\"site\":\"中证网\",\"commentNum\":\"0\",\"jo...   \n",
      "816    {\"type\":\"海外\",\"site\":\"中证网\",\"commentNum\":\"0\",\"jo...   \n",
      "909    {\"type\":\"新闻\",\"site\":\"新浪热门\",\"commentNum\":\" 392\"...   \n",
      "931    {\"type\":\"海外\",\"site\":\"中证网\",\"commentNum\":\"0\",\"jo...   \n",
      "934    {\"type\":\"海外\",\"site\":\"中证网\",\"commentNum\":\"0\",\"jo...   \n",
      "937    {\"type\":\"海外\",\"site\":\"中证网\",\"commentNum\":\"0\",\"jo...   \n",
      "940    {\"type\":\"海外\",\"site\":\"中证网\",\"commentNum\":\"0\",\"jo...   \n",
      "943    {\"type\":\"海外\",\"site\":\"中证网\",\"commentNum\":\"0\",\"jo...   \n",
      "946    {\"type\":\"海外\",\"site\":\"中证网\",\"commentNum\":\"0\",\"jo...   \n",
      "951    {\"type\":\"海外\",\"site\":\"中证网\",\"commentNum\":\"0\",\"jo...   \n",
      "954    {\"type\":\"海外\",\"site\":\"中证网\",\"commentNum\":\"0\",\"jo...   \n",
      "958    {\"type\":\"海外\",\"site\":\"中证网\",\"commentNum\":\"0\",\"jo...   \n",
      "964    {\"type\":\"海外\",\"site\":\"中证网\",\"commentNum\":\"0\",\"jo...   \n",
      "966    {\"type\":\"海外\",\"site\":\"中证网\",\"commentNum\":\"0\",\"jo...   \n",
      "990    {\"type\":\"海外\",\"site\":\"中证网\",\"commentNum\":\"0\",\"jo...   \n",
      "995    {\"type\":\"海外\",\"site\":\"中证网\",\"commentNum\":\"0\",\"jo...   \n",
      "...                                                  ...   \n",
      "89577  {\"type\":\"足球\",\"site\":\"新华社\",\"url\":\"http://home.x...   \n",
      "89578  {\"type\":\"足球\",\"site\":\"新华社\",\"url\":\"http://home.x...   \n",
      "89579  {\"type\":\"足球\",\"site\":\"新华社\",\"url\":\"http://home.x...   \n",
      "89580  {\"type\":\"足球\",\"site\":\"新华社\",\"url\":\"http://home.x...   \n",
      "89581  {\"type\":\"足球\",\"site\":\"新华社\",\"url\":\"http://home.x...   \n",
      "89582  {\"type\":\"足球\",\"site\":\"新华社\",\"url\":\"http://home.x...   \n",
      "89583  {\"type\":\"其它\",\"site\":\"新华社\",\"url\":\"http://home.x...   \n",
      "89584  {\"type\":\"其它\",\"site\":\"新华社\",\"url\":\"http://home.x...   \n",
      "89585  {\"type\":\"其它\",\"site\":\"新华社\",\"url\":\"http://home.x...   \n",
      "89586  {\"type\":\"其它\",\"site\":\"新华社\",\"url\":\"http://home.x...   \n",
      "89587  {\"type\":\"其它\",\"site\":\"新华社\",\"url\":\"http://home.x...   \n",
      "89588  {\"type\":\"其它\",\"site\":\"新华社\",\"url\":\"http://home.x...   \n",
      "89589  {\"type\":\"其它\",\"site\":\"新华社\",\"url\":\"http://home.x...   \n",
      "89590  {\"type\":\"足球\",\"site\":\"新华社\",\"url\":\"http://home.x...   \n",
      "89591  {\"type\":\"足球\",\"site\":\"新华社\",\"url\":\"http://home.x...   \n",
      "89592  {\"type\":\"足球\",\"site\":\"新华社\",\"url\":\"http://home.x...   \n",
      "89593  {\"type\":\"足球\",\"site\":\"新华社\",\"url\":\"http://home.x...   \n",
      "89594  {\"type\":\"足球\",\"site\":\"新华社\",\"url\":\"http://home.x...   \n",
      "89595  {\"type\":\"足球\",\"site\":\"新华社\",\"url\":\"http://home.x...   \n",
      "89596  {\"type\":\"足球\",\"site\":\"新华社\",\"url\":\"http://home.x...   \n",
      "89597  {\"type\":\"足球\",\"site\":\"新华社\",\"url\":\"http://home.x...   \n",
      "89598  {\"type\":\"足球\",\"site\":\"新华社\",\"url\":\"http://home.x...   \n",
      "89599  {\"type\":\"社会\",\"site\":\"新华社\",\"url\":\"http://home.x...   \n",
      "89600  {\"type\":\"社会\",\"site\":\"新华社\",\"url\":\"http://home.x...   \n",
      "89601  {\"type\":\"社会\",\"site\":\"新华社\",\"url\":\"http://home.x...   \n",
      "89602  {\"type\":\"冰球\",\"site\":\"新华社\",\"url\":\"http://home.x...   \n",
      "89603  {\"type\":\"宏观经济\",\"site\":\"新华社\",\"url\":\"http://home...   \n",
      "89604  {\"type\":\"其它\",\"site\":\"新华社\",\"url\":\"http://home.x...   \n",
      "89605  {\"type\":\"其它\",\"site\":\"新华社\",\"url\":\"http://home.x...   \n",
      "89606  {\"type\":\"体育\",\"site\":\"新华社\",\"url\":\"http://home.x...   \n",
      "\n",
      "                                    5  \\\n",
      "3       葡森林火灾造成至少62人死亡 政府宣布进入紧急状态（组图）   \n",
      "39          葡森林火灾造成至少62人死亡 政府宣布进入紧急状态   \n",
      "95                    综述：亚投行第二届年会三大亮点   \n",
      "113              《军营理论热点怎么看·2017》印发全军   \n",
      "305      甘肃力推网络扶贫：贫困山区到2020年实现4G网络全覆盖   \n",
      "312                    天山天池首次举办山地马拉松赛   \n",
      "314              9省市联动开展跨区域地震救援实战拉动演练   \n",
      "543          一年内全国12家5A级景区被国家旅游局摘牌或警告   \n",
      "545                 张海迪获得国际残奥委会主席参选提名   \n",
      "651              拿什么消除游客“差评”？—江苏旅游业调查   \n",
      "671                  纽约举办“格列佛大门”微缩景观展   \n",
      "679             洛杉矶2016年游客人数及旅游收入均创新高   \n",
      "715         公安部:近3年斑马线上交通事故共造成3898人死亡   \n",
      "794            亚马逊CEO贝索斯比盖茨差多少钱？50亿美元   \n",
      "810                    巴西央行下调今年经济增长预期   \n",
      "816                 巴黎航展首日空客波音双双公布新机型   \n",
      "909                 张海迪获得国际残奥委会主席参选提名   \n",
      "931           ７月交货的纽约轻质原油期货价格下跌０．９７美元   \n",
      "934                         伦敦股市２０日下跌   \n",
      "937            纽约黄金期价２０日比前一交易日下跌３．２美元   \n",
      "940                伦敦股市２０日报收于７４７２．７１点   \n",
      "943                   芝加哥农产品期价２０日涨跌不一   \n",
      "946                  美元对多数主要货币汇率20日上涨   \n",
      "951    摩根士丹利资本国际公司宣布将中国Ａ股纳入ＭＳＣＩ新兴市场指数   \n",
      "954                  美元对多数主要货币汇率２０日上涨   \n",
      "958           ７月交货的纽约轻质原油期货价格下跌０．９７美元   \n",
      "964                伦敦股市２０日报收于７４７２．７１点   \n",
      "966       巴黎股市ＣＡＣ４０股指２０日尾盘报收于５２９３．６５点   \n",
      "990                     纽约股市三大股指２０日下跌   \n",
      "995            纽约黄金期价２０日比前一交易日下跌３．２美元   \n",
      "...                               ...   \n",
      "89577          [2]（外代二线）足球——世预赛：葡萄牙备战   \n",
      "89578          [3]（外代二线）足球——世预赛：葡萄牙备战   \n",
      "89579          [4]（外代二线）足球——世预赛：葡萄牙备战   \n",
      "89580          [5]（外代二线）足球——世预赛：葡萄牙备战   \n",
      "89581          [6]（外代二线）足球——世预赛：葡萄牙备战   \n",
      "89582          [7]（外代二线）足球——世预赛：葡萄牙备战   \n",
      "89583                   [1]（外代二线）蚕丝生产   \n",
      "89584                   [2]（外代二线）蚕丝生产   \n",
      "89585                   [3]（外代二线）蚕丝生产   \n",
      "89586                   [4]（外代二线）蚕丝生产   \n",
      "89587                   [5]（外代二线）蚕丝生产   \n",
      "89588             “萨德”环评将重启　在韩部署或推迟一年   \n",
      "89589              伊拉克安巴尔省发生自杀式袭击７人死亡   \n",
      "89590        [1]（外代二线）足球——国际友谊赛：德国平丹麦   \n",
      "89591        [3]（外代二线）足球——国际友谊赛：德国平丹麦   \n",
      "89592        [2]（外代二线）足球——国际友谊赛：德国平丹麦   \n",
      "89593        [4]（外代二线）足球——国际友谊赛：德国平丹麦   \n",
      "89594        [6]（外代二线）足球——国际友谊赛：德国平丹麦   \n",
      "89595        [5]（外代二线）足球——国际友谊赛：德国平丹麦   \n",
      "89596        [8]（外代二线）足球——国际友谊赛：德国平丹麦   \n",
      "89597        [7]（外代二线）足球——国际友谊赛：德国平丹麦   \n",
      "89598        [9]（外代二线）足球——国际友谊赛：德国平丹麦   \n",
      "89599       （文化）（1）电影《血战湘江》举行清华大学巡映活动   \n",
      "89600       （文化）（2）电影《血战湘江》举行清华大学巡映活动   \n",
      "89601       （文化）（3）电影《血战湘江》举行清华大学巡映活动   \n",
      "89602    （体育）（2）冰球——国家女子冰球队海外选秀在多伦多展开   \n",
      "89603           （经济）甘肃集中开工35个重点交通建设项目   \n",
      "89604            法国议会选举　马克龙有望获“压倒性胜利”   \n",
      "89605               哈佛大学为何取消这些新生入选资格？   \n",
      "89606                    （体育）题：乒乓女球迷　   \n",
      "\n",
      "                                                       6  \n",
      "3      http://world.huanqiu.com/hot/2017-06/10866126....  \n",
      "39     http://world.huanqiu.com/hot/2017-06/10866229....  \n",
      "95     http://china.huanqiu.com/hot/2017-06/10866439....  \n",
      "113    http://china.huanqiu.com/hot/2017-06/10866447....  \n",
      "305    http://china.huanqiu.com/hot/2017-06/10866626....  \n",
      "312    http://china.huanqiu.com/hot/2017-06/10866627....  \n",
      "314    http://china.huanqiu.com/hot/2017-06/10866630....  \n",
      "543      http://go.huanqiu.com/news/2016-10/9542454.html  \n",
      "545    http://sports.sina.com.cn/others/others/2017-0...  \n",
      "651     http://go.huanqiu.com/news/2017-04/10493712.html  \n",
      "671     http://go.huanqiu.com/news/2017-05/10644520.html  \n",
      "679     http://go.huanqiu.com/news/2017-05/10644526.html  \n",
      "715    http://auto.huanqiu.com/news/2017-06/10865485....  \n",
      "794    http://www.cs.com.cn/xwzx/hwxx/201706/t2017062...  \n",
      "810    http://www.cs.com.cn/xwzx/hwxx/201706/t2017062...  \n",
      "816    http://www.cs.com.cn/xwzx/hwxx/201706/t2017062...  \n",
      "909    http://news.sina.com.cn/c/nd/2017-06-20/doc-if...  \n",
      "931    http://www.cs.com.cn/xwzx/hwxx/201706/t2017062...  \n",
      "934    http://www.cs.com.cn/xwzx/hwxx/201706/t2017062...  \n",
      "937    http://www.cs.com.cn/xwzx/hwxx/201706/t2017062...  \n",
      "940    http://www.cs.com.cn/xwzx/hwxx/201706/t2017062...  \n",
      "943    http://www.cs.com.cn/xwzx/hwxx/201706/t2017062...  \n",
      "946    http://www.cs.com.cn/xwzx/hwxx/201706/t2017062...  \n",
      "951    http://www.cs.com.cn/xwzx/hwxx/201706/t2017062...  \n",
      "954    http://www.cs.com.cn/xwzx/hwxx/201706/t2017062...  \n",
      "958    http://www.cs.com.cn/xwzx/hwxx/201706/t2017062...  \n",
      "964    http://www.cs.com.cn/xwzx/hwxx/201706/t2017062...  \n",
      "966    http://www.cs.com.cn/xwzx/hwxx/201706/t2017062...  \n",
      "990    http://www.cs.com.cn/xwzx/hwxx/201706/t2017062...  \n",
      "995    http://www.cs.com.cn/xwzx/hwxx/201706/t2017062...  \n",
      "...                                                  ...  \n",
      "89577  http://home.xinhua-news.com/gdsdetailxhsnew/22...  \n",
      "89578  http://home.xinhua-news.com/gdsdetailxhsnew/22...  \n",
      "89579  http://home.xinhua-news.com/gdsdetailxhsnew/22...  \n",
      "89580  http://home.xinhua-news.com/gdsdetailxhsnew/22...  \n",
      "89581  http://home.xinhua-news.com/gdsdetailxhsnew/22...  \n",
      "89582  http://home.xinhua-news.com/gdsdetailxhsnew/22...  \n",
      "89583  http://home.xinhua-news.com/gdsdetailxhsnew/22...  \n",
      "89584  http://home.xinhua-news.com/gdsdetailxhsnew/22...  \n",
      "89585  http://home.xinhua-news.com/gdsdetailxhsnew/22...  \n",
      "89586  http://home.xinhua-news.com/gdsdetailxhsnew/22...  \n",
      "89587  http://home.xinhua-news.com/gdsdetailxhsnew/22...  \n",
      "89588  http://home.xinhua-news.com/gdsdetailxhsnew/22...  \n",
      "89589  http://home.xinhua-news.com/gdsdetailxhsnew/22...  \n",
      "89590  http://home.xinhua-news.com/gdsdetailxhsnew/22...  \n",
      "89591  http://home.xinhua-news.com/gdsdetailxhsnew/22...  \n",
      "89592  http://home.xinhua-news.com/gdsdetailxhsnew/22...  \n",
      "89593  http://home.xinhua-news.com/gdsdetailxhsnew/22...  \n",
      "89594  http://home.xinhua-news.com/gdsdetailxhsnew/22...  \n",
      "89595  http://home.xinhua-news.com/gdsdetailxhsnew/22...  \n",
      "89596  http://home.xinhua-news.com/gdsdetailxhsnew/22...  \n",
      "89597  http://home.xinhua-news.com/gdsdetailxhsnew/22...  \n",
      "89598  http://home.xinhua-news.com/gdsdetailxhsnew/22...  \n",
      "89599  http://home.xinhua-news.com/gdsdetailxhsnew/22...  \n",
      "89600  http://home.xinhua-news.com/gdsdetailxhsnew/22...  \n",
      "89601  http://home.xinhua-news.com/gdsdetailxhsnew/22...  \n",
      "89602  http://home.xinhua-news.com/gdsdetailxhsnew/22...  \n",
      "89603  http://home.xinhua-news.com/gdsdetailxhsnew/22...  \n",
      "89604  http://home.xinhua-news.com/gdsdetailxhsnew/22...  \n",
      "89605  http://home.xinhua-news.com/gdsdetailxhsnew/22...  \n",
      "89606  http://home.xinhua-news.com/gdsdetailxhsnew/22...  \n",
      "\n",
      "[78657 rows x 7 columns]\n"
     ]
    }
   ],
   "source": [
    "print(df.loc[df.iloc[:,2].apply(lambda x:x == '新华社'),:])"
   ]
  },
  {
   "cell_type": "code",
   "execution_count": 52,
   "metadata": {},
   "outputs": [],
   "source": [
    "Y = []\n",
    "for newspaper_office in df.iloc[:,2]:\n",
    "    if newspaper_office == '新华社':\n",
    "        Y.append(1)\n",
    "    else:\n",
    "        Y.append(0)        "
   ]
  },
  {
   "cell_type": "markdown",
   "metadata": {},
   "source": [
    "#### Y is lable,Y[ith] = 1  means  news_sentence_embed_vector[ith] is written by 新华社\n",
    "#### X is news_sentence_embed_vector"
   ]
  },
  {
   "cell_type": "code",
   "execution_count": 63,
   "metadata": {},
   "outputs": [
    {
     "name": "stdout",
     "output_type": "stream",
     "text": [
      "sentence'totals:89607 ,sentence vector dim is 50 , numbers of sample is 89607 , postive label numbers is 78657 , negative label numbers is 10950\n",
      "postive samples percent is 87.77997254678765% \n"
     ]
    }
   ],
   "source": [
    "n_samples = len(Y)\n",
    "postive_Y_samples = sum(Y)\n",
    "negative_Y_samples = n_samples - postive_Y_samples\n",
    "N = len(news_sentence_embed_vector)\n",
    "dim = len(news_sentence_embed_vector[0])\n",
    "print('''sentence'totals:{} ,sentence vector dim is {} , numbers of sample is {} , postive label numbers is {} , negative label numbers is {}'''\\\n",
    "     .format(N,dim,n_samples,postive_Y_samples,negative_Y_samples))\n",
    "print('''postive samples percent is {}% '''.format(str(postive_Y_samples/n_samples*100)))"
   ]
  },
  {
   "cell_type": "code",
   "execution_count": 64,
   "metadata": {},
   "outputs": [],
   "source": [
    "X = news_sentence_embed_vector"
   ]
  },
  {
   "cell_type": "code",
   "execution_count": 73,
   "metadata": {},
   "outputs": [],
   "source": [
    "from sklearn.model_selection import train_test_split"
   ]
  },
  {
   "cell_type": "code",
   "execution_count": 74,
   "metadata": {},
   "outputs": [],
   "source": [
    "X_train, X_test, y_train, y_test = train_test_split(X,Y, test_size=0.25,random_state=0)"
   ]
  },
  {
   "cell_type": "code",
   "execution_count": 80,
   "metadata": {},
   "outputs": [],
   "source": [
    "from sklearn import linear_model\n",
    "from sklearn.svm import SVC\n",
    "from sklearn import tree\n",
    "from sklearn.ensemble import RandomForestClassifier\n",
    "from sklearn.ensemble import BaggingClassifier\n",
    "from sklearn.ensemble import AdaBoostClassifier"
   ]
  },
  {
   "cell_type": "code",
   "execution_count": null,
   "metadata": {},
   "outputs": [],
   "source": []
  },
  {
   "cell_type": "code",
   "execution_count": 87,
   "metadata": {},
   "outputs": [
    {
     "name": "stderr",
     "output_type": "stream",
     "text": [
      "/home/mk/anaconda3/envs/python3.6/lib/python3.6/site-packages/sklearn/linear_model/logistic.py:433: FutureWarning: Default solver will be changed to 'lbfgs' in 0.22. Specify a solver to silence this warning.\n",
      "  FutureWarning)\n"
     ]
    },
    {
     "data": {
      "text/plain": [
       "LogisticRegression(C=1.0, class_weight=None, dual=False, fit_intercept=True,\n",
       "          intercept_scaling=1, max_iter=100, multi_class='warn',\n",
       "          n_jobs=None, penalty='l2', random_state=None, solver='warn',\n",
       "          tol=0.0001, verbose=0, warm_start=False)"
      ]
     },
     "execution_count": 87,
     "metadata": {},
     "output_type": "execute_result"
    }
   ],
   "source": [
    "lsr_clr = linear_model.LogisticRegression()\n",
    "lsr_clr.fit(X_train,y_train)"
   ]
  },
  {
   "cell_type": "code",
   "execution_count": null,
   "metadata": {},
   "outputs": [],
   "source": []
  },
  {
   "cell_type": "code",
   "execution_count": 109,
   "metadata": {},
   "outputs": [
    {
     "name": "stderr",
     "output_type": "stream",
     "text": [
      "/home/mk/anaconda3/envs/python3.6/lib/python3.6/site-packages/sklearn/svm/base.py:196: FutureWarning: The default value of gamma will change from 'auto' to 'scale' in version 0.22 to account better for unscaled features. Set gamma explicitly to 'auto' or 'scale' to avoid this warning.\n",
      "  \"avoid this warning.\", FutureWarning)\n"
     ]
    },
    {
     "data": {
      "text/plain": [
       "SVC(C=1.0, cache_size=200, class_weight=None, coef0=0.0,\n",
       "  decision_function_shape='ovr', degree=3, gamma='auto_deprecated',\n",
       "  kernel='rbf', max_iter=-1, probability=True, random_state=None,\n",
       "  shrinking=True, tol=0.001, verbose=False)"
      ]
     },
     "execution_count": 109,
     "metadata": {},
     "output_type": "execute_result"
    }
   ],
   "source": [
    "svc_clr = SVC(probability=True)\n",
    "svc_clr.fit(X_train,y_train)"
   ]
  },
  {
   "cell_type": "code",
   "execution_count": 272,
   "metadata": {},
   "outputs": [],
   "source": [
    "SVC?"
   ]
  },
  {
   "cell_type": "code",
   "execution_count": 273,
   "metadata": {},
   "outputs": [
    {
     "name": "stderr",
     "output_type": "stream",
     "text": [
      "/home/mk/anaconda3/envs/python3.6/lib/python3.6/site-packages/sklearn/svm/base.py:196: FutureWarning: The default value of gamma will change from 'auto' to 'scale' in version 0.22 to account better for unscaled features. Set gamma explicitly to 'auto' or 'scale' to avoid this warning.\n",
      "  \"avoid this warning.\", FutureWarning)\n"
     ]
    },
    {
     "data": {
      "text/plain": [
       "SVC(C=1.0, cache_size=200, class_weight='balanced', coef0=0.0,\n",
       "  decision_function_shape='ovr', degree=3, gamma='auto_deprecated',\n",
       "  kernel='rbf', max_iter=-1, probability=True, random_state=None,\n",
       "  shrinking=True, tol=0.001, verbose=False)"
      ]
     },
     "execution_count": 273,
     "metadata": {},
     "output_type": "execute_result"
    }
   ],
   "source": [
    "svc_clr_blance = SVC(probability=True,class_weight='balanced')\n",
    "svc_clr_blance.fit(X_train,y_train)"
   ]
  },
  {
   "cell_type": "code",
   "execution_count": 89,
   "metadata": {},
   "outputs": [
    {
     "data": {
      "text/plain": [
       "DecisionTreeClassifier(class_weight=None, criterion='gini', max_depth=None,\n",
       "            max_features=None, max_leaf_nodes=None,\n",
       "            min_impurity_decrease=0.0, min_impurity_split=None,\n",
       "            min_samples_leaf=1, min_samples_split=2,\n",
       "            min_weight_fraction_leaf=0.0, presort=False, random_state=None,\n",
       "            splitter='best')"
      ]
     },
     "execution_count": 89,
     "metadata": {},
     "output_type": "execute_result"
    }
   ],
   "source": [
    "dt_clr = tree.DecisionTreeClassifier()\n",
    "dt_clr.fit(X_train,y_train)"
   ]
  },
  {
   "cell_type": "code",
   "execution_count": 90,
   "metadata": {},
   "outputs": [
    {
     "name": "stderr",
     "output_type": "stream",
     "text": [
      "/home/mk/anaconda3/envs/python3.6/lib/python3.6/site-packages/sklearn/ensemble/forest.py:246: FutureWarning: The default value of n_estimators will change from 10 in version 0.20 to 100 in 0.22.\n",
      "  \"10 in version 0.20 to 100 in 0.22.\", FutureWarning)\n"
     ]
    },
    {
     "data": {
      "text/plain": [
       "RandomForestClassifier(bootstrap=True, class_weight=None, criterion='gini',\n",
       "            max_depth=None, max_features='auto', max_leaf_nodes=None,\n",
       "            min_impurity_decrease=0.0, min_impurity_split=None,\n",
       "            min_samples_leaf=1, min_samples_split=2,\n",
       "            min_weight_fraction_leaf=0.0, n_estimators=10, n_jobs=None,\n",
       "            oob_score=False, random_state=None, verbose=0,\n",
       "            warm_start=False)"
      ]
     },
     "execution_count": 90,
     "metadata": {},
     "output_type": "execute_result"
    }
   ],
   "source": [
    "rf_clr = RandomForestClassifier()\n",
    "rf_clr.fit(X_train,y_train)"
   ]
  },
  {
   "cell_type": "code",
   "execution_count": 91,
   "metadata": {},
   "outputs": [
    {
     "data": {
      "text/plain": [
       "BaggingClassifier(base_estimator=None, bootstrap=True,\n",
       "         bootstrap_features=False, max_features=1.0, max_samples=1.0,\n",
       "         n_estimators=10, n_jobs=None, oob_score=False, random_state=None,\n",
       "         verbose=0, warm_start=False)"
      ]
     },
     "execution_count": 91,
     "metadata": {},
     "output_type": "execute_result"
    }
   ],
   "source": [
    "bg_clr = BaggingClassifier()\n",
    "bg_clr.fit(X_train,y_train)"
   ]
  },
  {
   "cell_type": "code",
   "execution_count": 92,
   "metadata": {},
   "outputs": [
    {
     "data": {
      "text/plain": [
       "AdaBoostClassifier(algorithm='SAMME.R', base_estimator=None,\n",
       "          learning_rate=1.0, n_estimators=50, random_state=None)"
      ]
     },
     "execution_count": 92,
     "metadata": {},
     "output_type": "execute_result"
    }
   ],
   "source": [
    "ad_clr = AdaBoostClassifier()\n",
    "ad_clr.fit(X_train,y_train)"
   ]
  },
  {
   "cell_type": "code",
   "execution_count": 93,
   "metadata": {},
   "outputs": [],
   "source": [
    "from sklearn import metrics"
   ]
  },
  {
   "cell_type": "code",
   "execution_count": 155,
   "metadata": {},
   "outputs": [
    {
     "name": "stdout",
     "output_type": "stream",
     "text": [
      "0\n",
      "1\n",
      "2\n",
      "3\n",
      "4\n",
      "5\n"
     ]
    }
   ],
   "source": [
    "clrs = [lsr_clr,svc_clr,svc_clr_blance,dt_clr,rf_clr,bg_clr,ad_clr]\n",
    "y_scores = []\n",
    "y_hat = []\n",
    "for i,clr in enumerate(clrs):\n",
    "    print(i)\n",
    "    y_scores.append(clr.predict_proba(X_test))\n",
    "    y_hat.append(clr.predict(X_test))"
   ]
  },
  {
   "cell_type": "code",
   "execution_count": 114,
   "metadata": {},
   "outputs": [
    {
     "data": {
      "text/plain": [
       "array([1, 1, 1, ..., 1, 1, 1])"
      ]
     },
     "execution_count": 114,
     "metadata": {},
     "output_type": "execute_result"
    }
   ],
   "source": [
    "lsr_clr.predict(X_test)"
   ]
  },
  {
   "cell_type": "code",
   "execution_count": 115,
   "metadata": {},
   "outputs": [
    {
     "data": {
      "text/plain": [
       "array([ 8.30216565, 13.886741  ,  3.89895717, ...,  0.37321299,\n",
       "        7.81917546,  9.35476269])"
      ]
     },
     "execution_count": 115,
     "metadata": {},
     "output_type": "execute_result"
    }
   ],
   "source": [
    "lsr_clr.decision_function(X_test)"
   ]
  },
  {
   "cell_type": "code",
   "execution_count": 113,
   "metadata": {},
   "outputs": [
    {
     "data": {
      "text/plain": [
       "array([[2.47917730e-04, 9.99752082e-01],\n",
       "       [9.31246399e-07, 9.99999069e-01],\n",
       "       [1.98605954e-02, 9.80139405e-01],\n",
       "       ...,\n",
       "       [4.07764879e-01, 5.92235121e-01],\n",
       "       [4.01791473e-04, 9.99598209e-01],\n",
       "       [8.65447235e-05, 9.99913455e-01]])"
      ]
     },
     "execution_count": 113,
     "metadata": {},
     "output_type": "execute_result"
    }
   ],
   "source": [
    "lsr_clr.predict_proba(X_test)"
   ]
  },
  {
   "cell_type": "code",
   "execution_count": 112,
   "metadata": {},
   "outputs": [
    {
     "name": "stdout",
     "output_type": "stream",
     "text": [
      "[1 1 1 ... 1 1 1]\n",
      "[1 1 1 ... 1 1 1]\n",
      "[1 1 1 ... 1 1 1]\n",
      "[1 1 1 ... 0 1 1]\n",
      "[1 1 1 ... 1 1 1]\n",
      "[1 1 1 ... 1 1 1]\n"
     ]
    }
   ],
   "source": [
    "for y_hat in y_hats:\n",
    "    print(y_hat)"
   ]
  },
  {
   "cell_type": "code",
   "execution_count": 111,
   "metadata": {},
   "outputs": [
    {
     "name": "stdout",
     "output_type": "stream",
     "text": [
      "[[2.47917730e-04 9.99752082e-01]\n",
      " [9.31246399e-07 9.99999069e-01]\n",
      " [1.98605954e-02 9.80139405e-01]\n",
      " ...\n",
      " [4.07764879e-01 5.92235121e-01]\n",
      " [4.01791473e-04 9.99598209e-01]\n",
      " [8.65447235e-05 9.99913455e-01]]\n",
      "[[9.27401400e-08 9.99999907e-01]\n",
      " [3.68141871e-13 1.00000000e+00]\n",
      " [3.75503310e-03 9.96244967e-01]\n",
      " ...\n",
      " [4.38696711e-01 5.61303289e-01]\n",
      " [8.93594747e-07 9.99999106e-01]\n",
      " [2.42250793e-09 9.99999998e-01]]\n",
      "[[0. 1.]\n",
      " [0. 1.]\n",
      " [0. 1.]\n",
      " ...\n",
      " [0. 1.]\n",
      " [0. 1.]\n",
      " [0. 1.]]\n",
      "[[0.  1. ]\n",
      " [0.  1. ]\n",
      " [0.1 0.9]\n",
      " ...\n",
      " [0.5 0.5]\n",
      " [0.  1. ]\n",
      " [0.  1. ]]\n",
      "[[0.  1. ]\n",
      " [0.  1. ]\n",
      " [0.3 0.7]\n",
      " ...\n",
      " [0.4 0.6]\n",
      " [0.  1. ]\n",
      " [0.  1. ]]\n",
      "[[0.4510666  0.5489334 ]\n",
      " [0.44398663 0.55601337]\n",
      " [0.47448699 0.52551301]\n",
      " ...\n",
      " [0.48987596 0.51012404]\n",
      " [0.47108707 0.52891293]\n",
      " [0.45451468 0.54548532]]\n"
     ]
    }
   ],
   "source": [
    "for y_score in y_scores:\n",
    "    print(y_score)"
   ]
  },
  {
   "cell_type": "code",
   "execution_count": 264,
   "metadata": {},
   "outputs": [],
   "source": [
    "from sklearn.metrics import roc_curve, auc,confusion_matrix,f1_score\n",
    "import matplotlib.pylab as plt"
   ]
  },
  {
   "cell_type": "code",
   "execution_count": 119,
   "metadata": {},
   "outputs": [
    {
     "data": {
      "text/plain": [
       "array([[2.47917730e-04, 9.99752082e-01],\n",
       "       [9.31246399e-07, 9.99999069e-01],\n",
       "       [1.98605954e-02, 9.80139405e-01],\n",
       "       ...,\n",
       "       [4.07764879e-01, 5.92235121e-01],\n",
       "       [4.01791473e-04, 9.99598209e-01],\n",
       "       [8.65447235e-05, 9.99913455e-01]])"
      ]
     },
     "execution_count": 119,
     "metadata": {},
     "output_type": "execute_result"
    }
   ],
   "source": [
    "y_scores[0]"
   ]
  },
  {
   "cell_type": "code",
   "execution_count": 126,
   "metadata": {},
   "outputs": [],
   "source": [
    "fpr,tpr,_ = roc_curve(y_test,y_scores[0][:,0])    "
   ]
  },
  {
   "cell_type": "code",
   "execution_count": 127,
   "metadata": {},
   "outputs": [],
   "source": [
    "roc_auc = auc(fpr, tpr)"
   ]
  },
  {
   "cell_type": "code",
   "execution_count": 128,
   "metadata": {},
   "outputs": [
    {
     "data": {
      "text/plain": [
       "0.013474671449842884"
      ]
     },
     "execution_count": 128,
     "metadata": {},
     "output_type": "execute_result"
    }
   ],
   "source": [
    "roc_auc"
   ]
  },
  {
   "cell_type": "code",
   "execution_count": 189,
   "metadata": {},
   "outputs": [
    {
     "data": {
      "image/png": "[encoded data removed]",
      "text/plain": [
       "<Figure size 432x288 with 1 Axes>"
      ]
     },
     "metadata": {
      "needs_background": "light"
     },
     "output_type": "display_data"
    },
    {
     "data": {
      "image/png": "[encoded data removed]",
      "text/plain": [
       "<Figure size 432x288 with 1 Axes>"
      ]
     },
     "metadata": {
      "needs_background": "light"
     },
     "output_type": "display_data"
    },
    {
     "data": {
      "image/png": "[encoded data removed]",
      "text/plain": [
       "<Figure size 432x288 with 1 Axes>"
      ]
     },
     "metadata": {
      "needs_background": "light"
     },
     "output_type": "display_data"
    },
    {
     "data": {
      "image/png": "[encoded data removed]",
      "text/plain": [
       "<Figure size 432x288 with 1 Axes>"
      ]
     },
     "metadata": {
      "needs_background": "light"
     },
     "output_type": "display_data"
    },
    {
     "data": {
      "image/png": "[encoded data removed]",
      "text/plain": [
       "<Figure size 432x288 with 1 Axes>"
      ]
     },
     "metadata": {
      "needs_background": "light"
     },
     "output_type": "display_data"
    },
    {
     "data": {
      "image/png": "[encoded data removed]",
      "text/plain": [
       "<Figure size 432x288 with 1 Axes>"
      ]
     },
     "metadata": {
      "needs_background": "light"
     },
     "output_type": "display_data"
    }
   ],
   "source": [
    "#Plot of a ROC curve for a specific class\n",
    "clrs = ['lsr_clr','svc_clr','dt_clr','rf_clr','bg_clr','ad_clr']\n",
    "for idx,y_score in enumerate(y_scores):\n",
    "    fpr,tpr,_ = roc_curve(y_test,y_score[:,1]) \n",
    "    roc_auc = auc(fpr, tpr)\n",
    "    plt.figure()\n",
    "    plt.plot(fpr, tpr, color='darkorange', label='ROC curve (area = %0.2f)' % roc_auc)\n",
    "    plt.plot([0, 1], [0, 1], color='navy', linestyle='--')\n",
    "\n",
    "    plt.xlim([0.0, 1.0])\n",
    "    plt.ylim([0.0, 1.05])\n",
    "    plt.xlabel('False Positive Rate')\n",
    "    plt.ylabel('True Positive Rate')\n",
    "    plt.title(clrs[idx])\n",
    "    plt.legend(loc=\"lower right\",bbox_to_anchor=[1,1])"
   ]
  },
  {
   "cell_type": "code",
   "execution_count": 265,
   "metadata": {},
   "outputs": [],
   "source": [
    "f1_score()"
   ]
  },
  {
   "cell_type": "code",
   "execution_count": 260,
   "metadata": {},
   "outputs": [],
   "source": [
    "\n",
    "def plot_confusion_matrix(confusion_mat,strs):\n",
    "    plt.figure()\n",
    "    plt.imshow(confusion_mat,interpolation='nearest',cmap=plt.cm.Paired)\n",
    "    plt.title('Confusion Matrix '+strs)\n",
    "    plt.colorbar()\n",
    "    plt.xticks([1,0],[1,0])\n",
    "    plt.yticks([1,0],[1,0])\n",
    "    plt.xlabel('True Label')\n",
    "    plt.ylabel('Predicted Label')\n",
    "    plt.text(0,0,confusion_mat[0][0])\n",
    "    plt.text(0,1,confusion_mat[0][1])\n",
    "    plt.text(1,0,confusion_mat[1][0])\n",
    "    plt.text(1,1,confusion_mat[1][1])\n",
    "    plt.show()"
   ]
  },
  {
   "cell_type": "code",
   "execution_count": 261,
   "metadata": {},
   "outputs": [
    {
     "data": {
      "image/png": "[encoded data removed]",
      "text/plain": [
       "<Figure size 432x288 with 2 Axes>"
      ]
     },
     "metadata": {
      "needs_background": "light"
     },
     "output_type": "display_data"
    },
    {
     "name": "stdout",
     "output_type": "stream",
     "text": [
      "lsr_clr 0.9746943703778236 0.9848015046002135\n"
     ]
    },
    {
     "data": {
      "image/png": "[encoded data removed]",
      "text/plain": [
       "<Figure size 432x288 with 2 Axes>"
      ]
     },
     "metadata": {
      "needs_background": "light"
     },
     "output_type": "display_data"
    },
    {
     "name": "stdout",
     "output_type": "stream",
     "text": [
      "svc_clr 0.9699750623441397 0.9885630051339399\n"
     ]
    },
    {
     "data": {
      "image/png": "[encoded data removed]",
      "text/plain": [
       "<Figure size 432x288 with 2 Axes>"
      ]
     },
     "metadata": {
      "needs_background": "light"
     },
     "output_type": "display_data"
    },
    {
     "name": "stdout",
     "output_type": "stream",
     "text": [
      "dt_clr 0.9652742573253574 0.9678747521984445\n"
     ]
    },
    {
     "data": {
      "image/png": "[encoded data removed]",
      "text/plain": [
       "<Figure size 432x288 with 2 Axes>"
      ]
     },
     "metadata": {
      "needs_background": "light"
     },
     "output_type": "display_data"
    },
    {
     "name": "stdout",
     "output_type": "stream",
     "text": [
      "rf_clr 0.973032803380962 0.9830732475982311\n"
     ]
    },
    {
     "data": {
      "image/png": "[encoded data removed]",
      "text/plain": [
       "<Figure size 432x288 with 2 Axes>"
      ]
     },
     "metadata": {
      "needs_background": "light"
     },
     "output_type": "display_data"
    },
    {
     "name": "stdout",
     "output_type": "stream",
     "text": [
      "bg_clr 0.974890112666094 0.9808366797133127\n"
     ]
    },
    {
     "data": {
      "image/png": "[encoded data removed]",
      "text/plain": [
       "<Figure size 432x288 with 2 Axes>"
      ]
     },
     "metadata": {
      "needs_background": "light"
     },
     "output_type": "display_data"
    },
    {
     "name": "stdout",
     "output_type": "stream",
     "text": [
      "ad_clr 0.9670755001507992 0.9779393076805775\n"
     ]
    }
   ],
   "source": [
    "clrs = ['lsr_clr','svc_clr','dt_clr','rf_clr','bg_clr','ad_clr']\n",
    "for i,y_hat in enumerate(y_hats):\n",
    "    C = confusion_matrix(y_test,y_hat)\n",
    "    plot_confusion_matrix(C,clrs[i])\n",
    "    TN = C[0][0]\n",
    "    FP = C[0][1]\n",
    "    FN = C[1][0]\n",
    "    TP = C[1][1]\n",
    "    precision = TP/(TP+FP)\n",
    "    recall = TP/(TP+FN)\n",
    "    print(clrs[i],precision,recall)"
   ]
  },
  {
   "cell_type": "code",
   "execution_count": null,
   "metadata": {},
   "outputs": [],
   "source": []
  },
  {
   "cell_type": "code",
   "execution_count": 262,
   "metadata": {},
   "outputs": [],
   "source": [
    "C = confusion_matrix(y_test,y_hats[1],labels=[0,1])\n",
    "TN = C[0][0]\n",
    "FP = C[0][1]\n",
    "FN = C[1][0]\n",
    "TP = C[1][1]\n",
    "precision = TP/(TP+FP)\n",
    "recall = TP/(TP+FN)"
   ]
  },
  {
   "cell_type": "code",
   "execution_count": 263,
   "metadata": {},
   "outputs": [
    {
     "data": {
      "text/plain": [
       "(0.9699750623441397, 0.9885630051339399)"
      ]
     },
     "execution_count": 263,
     "metadata": {},
     "output_type": "execute_result"
    }
   ],
   "source": [
    "precision,recall"
   ]
  },
  {
   "cell_type": "markdown",
   "metadata": {},
   "source": [
    "F<sub>$\\beta$</sub> = $\\frac{(1+\\beta ^2 ) \\cdot recall\\cdot precision }{\\beta ^ 2 \\cdot precision + recall }$"
   ]
  },
  {
   "cell_type": "code",
   "execution_count": 268,
   "metadata": {},
   "outputs": [
    {
     "name": "stdout",
     "output_type": "stream",
     "text": [
      "[0.9797218710493047, 0.9791808272285578, 0.9665727556536968, 0.9780272573263546, 0.9778543556478994, 0.9724770642201834]\n"
     ]
    },
    {
     "data": {
      "image/png": "[encoded data removed]",
      "text/plain": [
       "<Figure size 432x288 with 1 Axes>"
      ]
     },
     "metadata": {
      "needs_background": "light"
     },
     "output_type": "display_data"
    }
   ],
   "source": [
    "F1 = []\n",
    "for i,y_hat in enumerate(y_hats):\n",
    "    F1 .append(f1_score(y_test,y_hat))\n",
    "plt.plot(range(len(F1)),F1)\n",
    "print(F1)"
   ]
  },
  {
   "cell_type": "markdown",
   "metadata": {},
   "source": [
    "综上所述  逻辑回归效果最好"
   ]
  },
  {
   "cell_type": "code",
   "execution_count": 269,
   "metadata": {},
   "outputs": [
    {
     "name": "stdout",
     "output_type": "stream",
     "text": [
      "/home/mk/User/xiaoma/newsClassify\r\n"
     ]
    }
   ],
   "source": [
    "!pwd"
   ]
  },
  {
   "cell_type": "code",
   "execution_count": null,
   "metadata": {},
   "outputs": [],
   "source": []
  }
 ],
 "metadata": {
  "kernelspec": {
   "display_name": "Python3.6",
   "language": "python",
   "name": "python3.6"
  },
  "language_info": {
   "codemirror_mode": {
    "name": "ipython",
    "version": 3
   },
   "file_extension": ".py",
   "mimetype": "text/x-python",
   "name": "python",
   "nbconvert_exporter": "python",
   "pygments_lexer": "ipython3",
   "version": "3.6.8"
  }
 },
 "nbformat": 4,
 "nbformat_minor": 2
}
