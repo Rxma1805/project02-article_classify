import os
from gensim.models import KeyedVectors
from keras.preprocessing.text import Tokenizer
from keras.preprocessing.sequence import pad_sequences
import numpy as np
from keras.models import Sequential
from keras.layers import Dense
from keras.layers import LSTM,Bidirectional, Dropout,GRU
from keras.layers.embeddings import Embedding
from keras.layers.convolutional import Conv1D
from keras.layers.convolutional import MaxPooling1D
from keras import regularizers
from sklearn.model_selection import train_test_split

max_length=200
embeding_dim = 100

wv = KeyedVectors.load('./coach/model.kv')
file = os.path.abspath('./douban.txt')
print(file)

def text_to_wordlist(text):
    return [w for w in text.split(':')[1].split()]

word_2_list=[]
with open(file,'r') as f:
    for line in f:
        word_2_list.append(text_to_wordlist(line))


tokenizer = Tokenizer()
tokenizer.fit_on_texts(word_2_list)
sequence = tokenizer.texts_to_sequences(word_2_list)
word_index = tokenizer.word_index
data = pad_sequences(sequence,maxlen=max_length)

label=[]
with open('label.txt','r',encoding='utf8') as f:
    for line in f:
        label.append(int(line.strip().split(':')[1]))
label = (np.arange(1,6,1) == np.array(label)[:,None]).astype(np.float32)
nb_words = len(word_index)+1
embedding_matrix = np.zeros((nb_words,embeding_dim))
for word,i in word_index.items():
    if word in wv.vocab:
        embedding_matrix[i] = wv.word_vec(word)

X_train, X_test, y_train, y_test = train_test_split(data,label,train_size = 0.8)
print('X_train.shape={},x_test.shape={}'.format(X_train.shape,X_test.shape))
model = Sequential()
model.add(Embedding(nb_words, embeding_dim, input_length=max_length,weights=[embedding_matrix],trainable=False))
model.add(Conv1D(filters=64, kernel_size=6, padding='same', activation='relu'))
model.add(MaxPooling1D(pool_size=2))
model.add(Bidirectional(LSTM(50, return_sequences=True,dropout=0.2)))
model.add(Bidirectional(LSTM(10)))
model.add(Dropout(0.5))
model.add(Dense(5, activation='softmax', activity_regularizer=regularizers.l2(0.001)))
model.compile(loss='categorical_crossentropy', optimizer='adam', metrics=['accuracy'])
#model.compile(loss='binary_crossentropy', optimizer='adam', metrics=['accuracy'])
print(model.summary())
history = model.fit(X_train, y_train,validation_split=0.20, epochs=10,verbose=1, batch_size=1024)


#
# import matplotlib.pyplot as plt
#
# print(history.history.keys())
# plt.plot(history.history['acc'])
# plt.plot(history.history['val_acc'])
# plt.title('model accuracy')
# plt.ylabel('accuracy')
# plt.xlabel('epoch')
# plt.legend(['train', 'test'], loc='upper left')
#
# plt.show()
# plt.plot(history.history['loss'])
# plt.plot(history.history['val_loss'])
# plt.title('model loss')
# plt.ylabel('loss')
# plt.xlabel('epoch')
# plt.legend(['train', 'test'], loc='upper left')
# plt.show()

preds = model.predict(X_test)

def accuracy(predictions, labels):
  return (100.0 * np.sum(np.argmax(predictions, 1) == np.argmax(labels, 1))
          / predictions.shape[0])
print(accuracy(preds,y_test))
